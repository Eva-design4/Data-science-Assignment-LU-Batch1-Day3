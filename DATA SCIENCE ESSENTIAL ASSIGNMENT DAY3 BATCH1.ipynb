{
 "cells": [
  {
   "cell_type": "markdown",
   "metadata": {},
   "source": [
    "# Question 1"
   ]
  },
  {
   "cell_type": "markdown",
   "metadata": {},
   "source": [
    "Create a numpy array starting from 2 till 50 with a stepsize of 3."
   ]
  },
  {
   "cell_type": "code",
   "execution_count": 1,
   "metadata": {},
   "outputs": [],
   "source": [
    "import numpy as np"
   ]
  },
  {
   "cell_type": "code",
   "execution_count": 2,
   "metadata": {},
   "outputs": [
    {
     "data": {
      "text/plain": [
       "array([ 2,  5,  8, 11, 14, 17, 20, 23, 26, 29, 32, 35, 38, 41, 44, 47, 50])"
      ]
     },
     "execution_count": 2,
     "metadata": {},
     "output_type": "execute_result"
    }
   ],
   "source": [
    "#start=2,stop=50,step size=3\n",
    "arr = np.arange(2,51,3)\n",
    "arr"
   ]
  },
  {
   "cell_type": "markdown",
   "metadata": {},
   "source": [
    "# Question 2"
   ]
  },
  {
   "cell_type": "markdown",
   "metadata": {},
   "source": [
    "Accept two lists of 5 elements each from the user.\n",
    "\n",
    "Convert them to numpy arrays. Concatenate these arrays and print it. Also sort these arrays and print it.\n"
   ]
  },
  {
   "cell_type": "code",
   "execution_count": 4,
   "metadata": {},
   "outputs": [
    {
     "name": "stdout",
     "output_type": "stream",
     "text": [
      "2\n",
      "3\n",
      "6\n",
      "8\n",
      "1\n",
      "5\n",
      "list 1  [3, 6, 8, 1, 5]\n",
      "5\n",
      "7\n",
      "6\n",
      "9\n",
      "2\n",
      "list 2 [5, 7, 6, 9, 2]\n",
      "converted lst1: [3 6 8 1 5]\n",
      "\n",
      "converted lst2: [5 7 6 9 2]\n",
      "Concatenated array : [3 6 8 1 5 5 7 6 9 2]\n",
      "Sorted array : [1 2 3 5 5 6 6 7 8 9]\n"
     ]
    }
   ],
   "source": [
    "import numpy as np\n",
    "#Creating lists\n",
    "\n",
    "lst1=[]\n",
    "n= int(input())\n",
    "\n",
    "for i in range(5):\n",
    "    num=int(input())\n",
    "    lst1.append(num)\n",
    "print(\"list 1 \", lst1)\n",
    "    \n",
    "    #Creating user input list 1\n",
    "lst2 = []\n",
    "\n",
    "for i in range(5):\n",
    "    item =int(input())\n",
    "    lst2.append(item)\n",
    "    \n",
    "print(\"list 2\",lst2)\n",
    "\n",
    "#converting lists to numpy array\n",
    "arr1 = np.array((lst1))\n",
    "arr2 = np.array((lst2))  \n",
    "print(\"converted lst1:\", arr1)\n",
    "print()\n",
    "print(\"converted lst2:\",arr2)\n",
    "#concatenating  the arrays joins them together\n",
    "arr3 = np.concatenate((arr1,arr2))\n",
    "print(\"Concatenated array :\", arr3)\n",
    "\n",
    "#Sorting the array\n",
    "arr4=np.sort(arr3)\n",
    "print(\"Sorted array :\", arr4)"
   ]
  },
  {
   "cell_type": "markdown",
   "metadata": {},
   "source": [
    "### Question 3"
   ]
  },
  {
   "cell_type": "markdown",
   "metadata": {},
   "source": [
    "Write a code snippet to find the dimensions of a ndarray and its size."
   ]
  },
  {
   "cell_type": "code",
   "execution_count": 12,
   "metadata": {},
   "outputs": [
    {
     "name": "stdout",
     "output_type": "stream",
     "text": [
      "Dimension of ndarray: 2\n",
      "size of array: 9\n"
     ]
    }
   ],
   "source": [
    "my_array=np.array([[3,4,5], [2,5,6], [6,8,9]])\n",
    "\n",
    "#printing array dimension\n",
    "print(\"Dimension of ndarray:\", my_array.ndim)\n",
    "\n",
    "#printing size(total number of elements ) in an array\n",
    "print(\"size of array:\",my_array.size)\n"
   ]
  },
  {
   "cell_type": "markdown",
   "metadata": {},
   "source": [
    "# Question 4"
   ]
  },
  {
   "cell_type": "markdown",
   "metadata": {},
   "source": [
    "How to convert a 1D array into a 2D array? Demonstrate with the help of a code snippet\n",
    "\n",
    "Hint: np.newaxis, np.expand_dims"
   ]
  },
  {
   "cell_type": "code",
   "execution_count": 25,
   "metadata": {},
   "outputs": [
    {
     "name": "stdout",
     "output_type": "stream",
     "text": [
      "[5 6 7 8 4 5 7]\n",
      "shape of 1D array: (7,)\n",
      "[[5 6 7 8 4 5 7]]\n",
      "shape 2D array_row: (1, 7)\n",
      "shape 2D array_columns: (7, 1)\n"
     ]
    }
   ],
   "source": [
    "import numpy as np\n",
    "y= np.array([5,6,7,8,4,5,7])\n",
    "print (y)\n",
    "#getting the shape of the array\n",
    "print( \"shape of 1D array:\", y.shape)\n",
    "#Converting 1d array to 2d array\n",
    "x= y[np.newaxis, :]\n",
    "print(x)\n",
    "print( \"shape 2D array_row:\", x.shape)\n",
    "\n",
    "#np.expand_dims adds an axis at index position\n",
    "\n",
    "s=np.expand_dims(y,axis=1)\n",
    "print(\"shape 2D array_columns:\", s.shape)"
   ]
  },
  {
   "cell_type": "markdown",
   "metadata": {},
   "source": [
    "# Question 5"
   ]
  },
  {
   "cell_type": "markdown",
   "metadata": {},
   "source": [
    "Consider two square numpy arrays. Stack them vertically and horizontally\n",
    "\n",
    "Hint.: Use vstack(), hstack"
   ]
  },
  {
   "cell_type": "code",
   "execution_count": 35,
   "metadata": {},
   "outputs": [
    {
     "name": "stdout",
     "output_type": "stream",
     "text": [
      "[[ 4  9 16]\n",
      " [25 49 64]]\n",
      "\n",
      "hstack: [ 4  9 16 25 49 64]\n"
     ]
    }
   ],
   "source": [
    "from numpy import vstack\n",
    "from numpy import hstack #Horizontal stacking is a method merging the arrays horizontally\n",
    "from numpy import vstack# vertical stacking is merging the array vertically\n",
    "\n",
    "# vstack\n",
    "x=np.square([2,3,4])\n",
    "y=np.square([5,7,8])\n",
    "a=np.vstack((x,y))\n",
    "print(a)\n",
    "print()\n",
    "\n",
    "#hstack\n",
    "b=np.hstack((x,y))\n",
    "print(\"hstack:\",b)"
   ]
  },
  {
   "cell_type": "markdown",
   "metadata": {},
   "source": [
    "# Question 6"
   ]
  },
  {
   "cell_type": "markdown",
   "metadata": {},
   "source": [
    "How to get unique items and counts of unique items?"
   ]
  },
  {
   "cell_type": "code",
   "execution_count": 16,
   "metadata": {},
   "outputs": [
    {
     "name": "stdout",
     "output_type": "stream",
     "text": [
      "[[1 1]\n",
      " [2 2]\n",
      " [5 1]\n",
      " [6 1]\n",
      " [7 2]\n",
      " [8 1]]\n"
     ]
    }
   ],
   "source": [
    "#To get the unique values and count we use numpy.unique, return_counts as false or True\n",
    "\n",
    "a=np.array([2,2,5,6,7,7,8,1])\n",
    "(unique,counts)=np.unique(a,return_counts=True)\n",
    "frequencies = np.array((unique,counts)).T\n",
    "print(frequencies)"
   ]
  },
  {
   "cell_type": "code",
   "execution_count": null,
   "metadata": {},
   "outputs": [],
   "source": []
  }
 ],
 "metadata": {
  "kernelspec": {
   "display_name": "Python 3",
   "language": "python",
   "name": "python3"
  },
  "language_info": {
   "codemirror_mode": {
    "name": "ipython",
    "version": 3
   },
   "file_extension": ".py",
   "mimetype": "text/x-python",
   "name": "python",
   "nbconvert_exporter": "python",
   "pygments_lexer": "ipython3",
   "version": "3.7.6"
  },
  "latex_envs": {
   "LaTeX_envs_menu_present": true,
   "autoclose": false,
   "autocomplete": true,
   "bibliofile": "biblio.bib",
   "cite_by": "apalike",
   "current_citInitial": 1,
   "eqLabelWithNumbers": true,
   "eqNumInitial": 1,
   "hotkeys": {
    "equation": "Ctrl-E",
    "itemize": "Ctrl-I"
   },
   "labels_anchors": false,
   "latex_user_defs": false,
   "report_style_numbering": false,
   "user_envs_cfg": false
  }
 },
 "nbformat": 4,
 "nbformat_minor": 4
}
